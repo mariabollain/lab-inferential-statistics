{
 "cells": [
  {
   "cell_type": "markdown",
   "id": "c35bbc0d",
   "metadata": {},
   "source": [
    "## Instructions\n",
    "It is assumed that the mean systolic blood pressure is μ = 120 mm Hg. In the Honolulu Heart Study, a sample of n = 100 people had an average systolic blood pressure of 130.1 mm Hg with a standard deviation of 21.21 mm Hg. Is the group significantly different (with respect to systolic blood pressure!) from the regular population?\n",
    "- Set up the hypothesis test.\n",
    "- Write down all the steps followed for setting up the test.\n",
    "- Calculate the test statistic by hand and also code it in Python. It should be 4.76190. We will take a look at how to make decisions based on this calculated value."
   ]
  },
  {
   "cell_type": "markdown",
   "id": "19053170",
   "metadata": {},
   "source": [
    "## Solution\n",
    "- Null hypothesis: the mean systolic blood pressure in the group is equal to the one of the regular population.\n",
    "- Alternative hypothesis: the mean systolic blood pressure in the group is different\n",
    "- It is a two tailed test.\n",
    "- Level of significance: 0.05"
   ]
  },
  {
   "cell_type": "code",
   "execution_count": 1,
   "id": "be9a36ea",
   "metadata": {},
   "outputs": [],
   "source": [
    "import math \n",
    "from scipy.stats import t"
   ]
  },
  {
   "cell_type": "code",
   "execution_count": 2,
   "id": "10c929d1",
   "metadata": {},
   "outputs": [],
   "source": [
    "n = 100\n",
    "sample_mean = 130.1\n",
    "pop_mean = 120\n",
    "sample_std = 21.21"
   ]
  },
  {
   "cell_type": "code",
   "execution_count": 5,
   "id": "5e0686aa",
   "metadata": {},
   "outputs": [
    {
     "data": {
      "text/plain": [
       "4.761904761904759"
      ]
     },
     "execution_count": 5,
     "metadata": {},
     "output_type": "execute_result"
    }
   ],
   "source": [
    "ttest = (sample_mean - pop_mean) / (sample_std / math.sqrt(n))\n",
    "ttest"
   ]
  },
  {
   "cell_type": "markdown",
   "id": "a13f80b7",
   "metadata": {},
   "source": [
    "The critical value a for level of significance of 0.05 is 1.9842: <br>\n",
    "https://www.easycalculation.com/statistics/t-distribution-critical-value-table.php <br>\n",
    "t > 1.9842 , therefore we reject the null hypothesis."
   ]
  },
  {
   "cell_type": "code",
   "execution_count": 6,
   "id": "26743c38",
   "metadata": {},
   "outputs": [
    {
     "data": {
      "text/plain": [
       "6.562701817208617e-06"
      ]
     },
     "execution_count": 6,
     "metadata": {},
     "output_type": "execute_result"
    }
   ],
   "source": [
    "p_value = t.sf(abs(ttest), n-1) * 2\n",
    "p_value"
   ]
  },
  {
   "cell_type": "markdown",
   "id": "808ee072",
   "metadata": {},
   "source": [
    "P-value (the probability of Ho) is very small, and smaller than 0.05. Therefore we reject the null hypothesis."
   ]
  },
  {
   "cell_type": "markdown",
   "id": "4b6c0820",
   "metadata": {},
   "source": [
    "We can conclude that the average systolic blood pressure of the group is different than the average systolic blood pressure of the regular population, with a confidence level of 95%."
   ]
  }
 ],
 "metadata": {
  "kernelspec": {
   "display_name": "Python 3 (ipykernel)",
   "language": "python",
   "name": "python3"
  },
  "language_info": {
   "codemirror_mode": {
    "name": "ipython",
    "version": 3
   },
   "file_extension": ".py",
   "mimetype": "text/x-python",
   "name": "python",
   "nbconvert_exporter": "python",
   "pygments_lexer": "ipython3",
   "version": "3.9.13"
  }
 },
 "nbformat": 4,
 "nbformat_minor": 5
}
